{
 "cells": [
  {
   "cell_type": "markdown",
   "metadata": {},
   "source": [
    "# 最適化（1変数）\n",
    "\n",
    "- すべての課題を実行せよ\n",
    "- すべての課題が完了したら Jupyter の File メニューから Download as -> Markdown (.md) として結果をダウンロードし， Bb9 の「課題」からファイル添付で提出せよ"
   ]
  },
  {
   "cell_type": "code",
   "execution_count": null,
   "metadata": {},
   "outputs": [],
   "source": [
    "# 初期化なので最初に実行してください\n",
    "using Test\n",
    "using Printf"
   ]
  },
  {
   "cell_type": "markdown",
   "metadata": {},
   "source": [
    "## 課題1\n",
    "\n",
    "### 黄金分割法 (Golden-section search)\n",
    "- 範囲 $[a,b]$ に非線形関数 $f(x)$ を最小にする値が唯一存在する\n",
    "- 解が存在する範囲を絞ることで解を見つける"
   ]
  },
  {
   "cell_type": "markdown",
   "metadata": {},
   "source": [
    "## 課題1-1\n",
    "- 黄金分割法のプログラムを完成させよ\n"
   ]
  },
  {
   "cell_type": "markdown",
   "metadata": {},
   "source": [
    "### goldensection の説明\n",
    "- 引数\n",
    "    - f: 非線形関数．f(x) のように呼び出される\n",
    "    - a, b: 最小解が存在する範囲 $[a, b]$\n",
    "    - tol: 許容誤差（省略可）\n",
    "- 戻り値\n",
    "    - $f(x)$ の最小解,$f(x)$の最小値\n",
    "    - 繰り返し回数\n",
    "- 関数内の変数\n",
    "    - gr: 黄金比\n",
    "    - c, d: a, b を黄金比で分割した点 c < d\n",
    "    - fa, fb, fc, fd: a, b, c, d での関数の値\n",
    "    - iter: 繰り返し回数"
   ]
  },
  {
   "cell_type": "code",
   "execution_count": null,
   "metadata": {},
   "outputs": [],
   "source": [
    "function goldensection(f, a, b; tol = 1.0e-12)\n",
    "    gr = (1.0 + sqrt(5)) / 2.0\n",
    "    c = b - (b - a) / gr\n",
    "    d = a + (b - a) / gr\n",
    "    fa, fc, fd, fb = f(a), f(c), f(d), f(b)\n",
    "    iter = 1\n",
    "    while true\n",
    "        if abs((c - d)/d) < tol\n",
    "            if fc < fd\n",
    "                return (c, fc, iter)\n",
    "            else\n",
    "                return (d, fd, iter)\n",
    "            end\n",
    "        end\n",
    "        if fc < fd # f(a) > f(c) < f(d) < f(b) となっている場合\n",
    "            d, b = c, d\n",
    "            # 適切なコードを記述：cを新しく算出\n",
    "            fc, fd, fb = f(c), fc, fd\n",
    "        else　# f(a) > f(c) > f(d) < f(b) となっている場合\n",
    "            a, c = c, d\n",
    "            # 適切なコードを記述: dを新しく算出\n",
    "            fa, fc, fd = fc, fd, f(d)\n",
    "        end\n",
    "    end\n",
    "end"
   ]
  },
  {
   "cell_type": "markdown",
   "metadata": {},
   "source": [
    "#### テストプログラム\n",
    "- 作成できたら以下のテストプログラムを実行してすべて**Test Passed**になることを確認\n",
    "- **Test Failed** が出たら結果が計算が間違っているので修正"
   ]
  },
  {
   "cell_type": "code",
   "execution_count": null,
   "metadata": {},
   "outputs": [],
   "source": [
    "f(x) = x^2-3x+2\n",
    "xmin, fmin, iter = goldensection(f, 0.1, 1.8)\n",
    "println(@test xmin ≈ 1.5)\n",
    "println(@test fmin ≈ -0.25)\n",
    "xmin, fmin, iter = goldensection(f, -10.0, 10.0)\n",
    "println(@test xmin ≈ 1.5)\n",
    "println(@test fmin ≈ -0.25)\n",
    "f(x) =  x^4 -5x^2 + 4\n",
    "xmin, fmin, iter = goldensection(f, 0.0, 2.0)\n",
    "println(@test xmin ≈ sqrt(5.0/2.0))\n",
    "println(@test fmin ≈ -9.0/4.0)"
   ]
  },
  {
   "cell_type": "markdown",
   "metadata": {},
   "source": [
    "## 課題1-2\n",
    "- $\\min f(x)$ の問題を作成し goldensection を使って解を求めよ（ただし2次関数以外）\n",
    "- ?部分に適当な関数ならびに初期値を設定せよ"
   ]
  },
  {
   "cell_type": "code",
   "execution_count": null,
   "metadata": {},
   "outputs": [],
   "source": [
    "# f(x) を定義\n",
    "f(x) = ??\n",
    "# 初期値 a, b をセット\n",
    "a, b = ??, ??\n",
    "# bisectionを実行\n",
    "xmin, fmin, iter = goldensection(f, a, b)"
   ]
  },
  {
   "cell_type": "markdown",
   "metadata": {},
   "source": [
    "## 課題2\n",
    "- ニュートン法（Newton's method）\n",
    "- 解に十分近い区間で非線形関数の最小解を求める\n",
    "- 2次導関数までの情報を使って解を求める"
   ]
  },
  {
   "cell_type": "markdown",
   "metadata": {},
   "source": [
    "### 課題2-1\n",
    "- newton法（最適化）のプログラムを作成せよ\n",
    "- テストプログラムで動作を確認せよ"
   ]
  },
  {
   "cell_type": "markdown",
   "metadata": {},
   "source": [
    "### opnewton の説明\n",
    "- 引数\n",
    "    - f: 非線形関数．f(x) のように呼び出される\n",
    "    - fdash: f(x) の微分. fdash(x) のように呼び出される\n",
    "    - fdashdash: f(x) の2階微分. fdashdash(x) のように呼び出される\n",
    "    - x0: 初期値\n",
    "    - tol: 許容誤差（省略可）\n",
    "    - maxiter: 最大繰り返し回数（省略可）\n",
    "- 戻り値\n",
    "    - $f(x$ の最小解，$f(x)$の最小値\n",
    "    - 停止条件を満たしたかどうか\n",
    "    - 繰り返し回数\n",
    "- 関数内の変数\n",
    "    - x0: $x_n$ の値\n",
    "    - x1: $x_{n+1}$ の値\n",
    "    - iter: 繰り返し回数"
   ]
  },
  {
   "cell_type": "code",
   "execution_count": null,
   "metadata": {},
   "outputs": [],
   "source": [
    "function opnewton(f, fdash, fdashdash, x0; tol = 1.0e-12, maxiter = 10000)\n",
    "    iter = 1 # 繰り返し回数\n",
    "    while true # 無限ループ\n",
    "        x1 = ? # コードを作成せよ\n",
    "        if abs(fdash(x1)) < tol # 停止条件\n",
    "            return (x1, f(x1), true, iter)\n",
    "        end\n",
    "        if iter >= maxiter # 繰り返し回数のチェック\n",
    "            return (x1, f(x1), false, iter)\n",
    "        end\n",
    "        x0 = x1\n",
    "        iter += 1\n",
    "    end\n",
    "end"
   ]
  },
  {
   "cell_type": "markdown",
   "metadata": {},
   "source": [
    "#### テストプログラム\n",
    "- 作成できたら以下のテストプログラムを実行してすべて**Test Passed**になることを確認\n",
    "- **Test Failed** が出たら結果が計算が間違っているので修正"
   ]
  },
  {
   "cell_type": "code",
   "execution_count": null,
   "metadata": {},
   "outputs": [],
   "source": [
    "f(x) = x^2-3x+2\n",
    "fdash(x) = 2x-3\n",
    "fdashdash(x) = 2\n",
    "xmin, fmin, conv, iter = opnewton(f, fdash, fdashdash, 3.0)\n",
    "println(@test xmin ≈ 1.5)\n",
    "println(@test fmin ≈ -0.25)\n",
    "f(x) =  x^4 -5x^2 + 4\n",
    "fdash(x) = 4x^3-10x\n",
    "fdashdash(x) = 12x^2-10\n",
    "xmin, fmin, conv, iter = opnewton(f, fdash, fdashdash, 1.2)\n",
    "println(@test xmin ≈ sqrt(5.0/2.0))\n",
    "println(@test fmin ≈ -9.0/4.0)"
   ]
  },
  {
   "cell_type": "markdown",
   "metadata": {},
   "source": [
    "## 課題2-2\n",
    "- 課題1-2と同じ関数を用いて $f(x)$ の最小解を opnewton を使って求めよ\n",
    "- 課題1-2の結果と繰返し回数の比較を行え"
   ]
  },
  {
   "cell_type": "code",
   "execution_count": null,
   "metadata": {},
   "outputs": [],
   "source": [
    "# f(x) を定義\n",
    "f(x) = ??\n",
    "# fdash(x) を定義\n",
    "fdash(x) = ??\n",
    "# fdashdash(x) を定義\n",
    "fdash(x) = ??\n",
    "# 初期値 x0 をセット\n",
    "x0 = ??\n",
    "# opnewtown を実行\n",
    "xmin, fmin, conv, iter = opnewton(f, fdash, fdashdash, x0)"
   ]
  },
  {
   "cell_type": "markdown",
   "metadata": {},
   "source": [
    "|手法|繰り返し回数|\n",
    "|:---:|:---:|\n",
    "| goldensection | 0 |\n",
    "| opnewton | 0 |"
   ]
  },
  {
   "cell_type": "markdown",
   "metadata": {},
   "source": [
    "### 課題 2-3\n",
    "$$\n",
    "f(x) = x^2 - 3x + 5\n",
    "$$\n",
    "で $f(x)$ の最小解をニュートン法で見つけると1回の更新で最小解に到達した．その理由について考察せよ．"
   ]
  },
  {
   "cell_type": "code",
   "execution_count": null,
   "metadata": {},
   "outputs": [],
   "source": [
    "f(x) = x^2 - 3x + 5\n",
    "fdash(x) = 2x - 3\n",
    "fdashdash(x) = 2\n",
    "xmin, fmin, conv, iter = opnewton(f, fdash, fdashdash, 2.0)"
   ]
  },
  {
   "cell_type": "markdown",
   "metadata": {},
   "source": [
    "#### 理由\n",
    "\n",
    "- ここに理由を記述"
   ]
  },
  {
   "cell_type": "markdown",
   "metadata": {},
   "source": [
    "### 課題 2-4\n",
    "$$\n",
    "f(x) = x^4 -5x^2 + 4\n",
    "$$\n",
    "で $f(x)$ の最小解をニュートン法で見つけようと思い以下のコードを実行したところ， $x=0$ という解が見つかった．これが最小解であるかどうか確認し，そのような解が見つかった理由について考察せよ"
   ]
  },
  {
   "cell_type": "code",
   "execution_count": null,
   "metadata": {},
   "outputs": [],
   "source": [
    "f(x) =  x^4 -5x^2 + 4\n",
    "fdash(x) = 4x^3-10x\n",
    "fdashdash(x) = 12x^2-10\n",
    "xmin, fmin, conv, iter = opnewton(f, fdash, fdashdash, 0.1)"
   ]
  },
  {
   "cell_type": "markdown",
   "metadata": {},
   "source": [
    "#### 理由\n",
    "\n",
    "- ここに理由を記述"
   ]
  }
 ],
 "metadata": {
  "kernelspec": {
   "display_name": "Julia 1.3.0",
   "language": "julia",
   "name": "julia-1.3"
  },
  "language_info": {
   "file_extension": ".jl",
   "mimetype": "application/julia",
   "name": "julia",
   "version": "1.3.0"
  }
 },
 "nbformat": 4,
 "nbformat_minor": 2
}
