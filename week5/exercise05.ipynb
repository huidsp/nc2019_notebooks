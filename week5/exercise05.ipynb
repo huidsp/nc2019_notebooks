{
 "cells": [
  {
   "cell_type": "markdown",
   "metadata": {},
   "source": [
    "# 非線形方程式\n",
    "\n",
    "- すべての課題を実行せよ\n",
    "- すべての課題が完了したら Jupyter の File メニューから Download as -> Markdown (.md) として結果をダウンロードし， Bb9 の「課題」からファイル添付で提出せよ"
   ]
  },
  {
   "cell_type": "code",
   "execution_count": null,
   "metadata": {},
   "outputs": [],
   "source": [
    "# 初期化なので最初に実行してください\n",
    "using Test\n",
    "using Printf"
   ]
  },
  {
   "cell_type": "markdown",
   "metadata": {},
   "source": [
    "## 課題1\n",
    "\n",
    "### 二分法 (bisection method)\n",
    "- 範囲 $[a,b]$ に非線形方程式 $f(x)=0$ の解が存在する\n",
    "- 解が存在する範囲を絞ることで解を見つける"
   ]
  },
  {
   "cell_type": "markdown",
   "metadata": {},
   "source": [
    "## 課題1-1\n",
    "- 二分法のプログラムを完成させよ\n"
   ]
  },
  {
   "cell_type": "markdown",
   "metadata": {},
   "source": [
    "### bisection の説明\n",
    "- 引数\n",
    "    - f: 非線形関数．f(x) のように呼び出される\n",
    "    - a, b: 解が存在する範囲 $[a, b]$\n",
    "    - tol: 許容誤差（省略可）\n",
    "- 戻り値\n",
    "    - $f(x)=0$ を満たす $x$とそのときの $f(x)$ の値\n",
    "    - 繰り返し回数\n",
    "- 関数内の変数\n",
    "    - c: a, b の中点\n",
    "    - fa, fb, fc: a, b での関数の値\n",
    "    - iter: 繰り返し回数"
   ]
  },
  {
   "cell_type": "code",
   "execution_count": null,
   "metadata": {},
   "outputs": [],
   "source": [
    "function bisection(f, a, b; tol = 1.0e-12)\n",
    "    fa, fb = f(a), f(b)\n",
    "    iter = 1\n",
    "    @assert fa*fb < 0\n",
    "    while true # 無限ループ\n",
    "        c = (a + b) / 2.0\n",
    "        fc = f(c)\n",
    "        if fa * fc < 0 # a と c の間に解が存在する条件\n",
    "            # 適切なコードを記入\n",
    "        elseif fc * fb < 0  # c と b の間に解が存在する条件\n",
    "            # 適切なコードを記入\n",
    "        else\n",
    "            # 条件 C\n",
    "            return (c, fc, iter)\n",
    "        end\n",
    "        if　abs((b - a)/a) < tol # 停止条件（相対誤差がtol以下）\n",
    "            c = (a + b) / 2.0\n",
    "            return (c, f(c), iter)\n",
    "        end\n",
    "        iter += 1\n",
    "    end\n",
    "end"
   ]
  },
  {
   "cell_type": "markdown",
   "metadata": {},
   "source": [
    "#### テストプログラム\n",
    "- 作成できたら以下のテストプログラムを実行してすべて**Test Passed**になることを確認\n",
    "- **Test Failed** が出たら結果が計算が間違っているので修正"
   ]
  },
  {
   "cell_type": "code",
   "execution_count": null,
   "metadata": {},
   "outputs": [],
   "source": [
    "f(x) = x^2-3x+2\n",
    "x, fx, iter = bisection(f, 0.1, 1.8)\n",
    "println(@test x ≈ 1)\n",
    "x, fx, iter = bisection(f, 1.8, 2.3)\n",
    "println(@test x ≈ 2)\n",
    "x, fx, iter = bisection(f, 0.5, 1.5)\n",
    "println(@test x ≈ 1)\n",
    "x, fx, iter = bisection(f, 1.5, 2.5)\n",
    "println(@test x ≈ 2)\n",
    "f(x) = exp(x) - 5\n",
    "x, fx, iter = bisection(f, 0.0, 2.0)\n",
    "println(@test x ≈ log(5))"
   ]
  },
  {
   "cell_type": "markdown",
   "metadata": {},
   "source": [
    "## 課題1-2\n",
    "- $f(x) = 0$ の問題を作成し bisection を使って解を求めよ\n",
    "- ?部分に適当な関数ならびに初期値を設定せよ"
   ]
  },
  {
   "cell_type": "code",
   "execution_count": null,
   "metadata": {},
   "outputs": [],
   "source": [
    "# f(x) を定義\n",
    "f(x) = ??\n",
    "# 初期値 a, b をセット\n",
    "a, b = ??, ??\n",
    "# bisectionを実行\n",
    "x, fx, iter = bisection(f, a, b)"
   ]
  },
  {
   "cell_type": "markdown",
   "metadata": {},
   "source": [
    "## 課題1-3\n",
    "- bisectionのプログラムの中で「条件C」と書いてある処理フローになるための条件を示せ．またこの部分がなかったらどんな場合にうまくいかないのか考察せよ\n",
    "\n",
    "ここに解答を記述"
   ]
  },
  {
   "cell_type": "markdown",
   "metadata": {},
   "source": [
    "## 課題2\n",
    "- ニュートン法（Newton's method）\n",
    "- 解に十分近い区間で非線形方程式の解を求める\n",
    "- 導関数（1階微分）の情報を使って解を求める"
   ]
  },
  {
   "cell_type": "markdown",
   "metadata": {},
   "source": [
    "### 課題2-1\n",
    "- newton法のプログラムを作成せよ\n",
    "- テストプログラムで動作を確認せよ"
   ]
  },
  {
   "cell_type": "markdown",
   "metadata": {},
   "source": [
    "### newton の説明\n",
    "- 引数\n",
    "    - f: 非線形関数．f(x) のように呼び出される\n",
    "    - fdash: f(x) の微分. fdash(x) のように呼び出される\n",
    "    - x0: 初期値\n",
    "    - tol: 許容誤差（省略可）\n",
    "    - maxiter: 最大繰り返し回数（省略可）\n",
    "- 戻り値\n",
    "    - $f(x)=0$ を満たす $x$とそのときの $f(x)$ の値\n",
    "    - 停止条件を満たしたかどうか\n",
    "    - 繰り返し回数\n",
    "- 関数内の変数\n",
    "    - x0: $x_n$ の値\n",
    "    - x1: $x_{n+1}$ の値\n",
    "    - iter: 繰り返し回数"
   ]
  },
  {
   "cell_type": "code",
   "execution_count": null,
   "metadata": {},
   "outputs": [],
   "source": [
    "function newton(f, fdash, x0; tol = 1.0e-12, maxiter = 10000)\n",
    "    iter = 1\n",
    "    while true\n",
    "        x1 = ?? # x1 の更新式を記述せよ\n",
    "        if abs((x1-x0)/x0) < tol # 停止条件（x0, x1 の更新量の相対誤差がtol以下）\n",
    "            return (x1, f(x1), true, iter)\n",
    "        end\n",
    "        if iter >= maxiter # 繰り返し回数のチェック\n",
    "            return (x1, f(x1), false, iter)\n",
    "        end\n",
    "        x0 = x1\n",
    "        iter += 1\n",
    "    end\n",
    "end"
   ]
  },
  {
   "cell_type": "markdown",
   "metadata": {},
   "source": [
    "#### テストプログラム\n",
    "- 作成できたら以下のテストプログラムを実行してすべて**Test Passed**になることを確認\n",
    "- **Test Failed** が出たら結果が計算が間違っているので修正"
   ]
  },
  {
   "cell_type": "code",
   "execution_count": null,
   "metadata": {},
   "outputs": [],
   "source": [
    "f(x) = x^2-3x+2\n",
    "fdash(x) = 2x-3\n",
    "x, fx, conv, iter = newton(f, fdash, 1.1)\n",
    "println(@test x ≈ 1)\n",
    "x, fx, conv, iter = newton(f, fdash, 2.1)\n",
    "println(@test x ≈ 2)\n",
    "f(x) = exp(x) - 5\n",
    "fdash(x) = exp(x)\n",
    "x, fx, conv, iter = newton(f, fdash, 2.0)\n",
    "println(@test x ≈ log(5))"
   ]
  },
  {
   "cell_type": "markdown",
   "metadata": {},
   "source": [
    "## 課題2-2\n",
    "- 課題1-2と同じ関数を用いて $f(x) = 0$ となる解を newton を使って求めよ\n",
    "- 課題1-2の結果と繰返し回数の比較を行え"
   ]
  },
  {
   "cell_type": "code",
   "execution_count": null,
   "metadata": {},
   "outputs": [],
   "source": [
    "# f(x) を定義\n",
    "f(x) = ??\n",
    "# fdash(x) を定義\n",
    "fdash(x) = ??\n",
    "# 初期値 x0 をセット\n",
    "x0 = ??\n",
    "# newtown を実行\n",
    "x, fx, conv, iter = newton(f, fdash, x0)"
   ]
  },
  {
   "cell_type": "markdown",
   "metadata": {},
   "source": [
    "|手法|繰り返し回数|\n",
    "|:---:|:---:|\n",
    "| bisection | 0 |\n",
    "| newton | 0 |"
   ]
  },
  {
   "cell_type": "markdown",
   "metadata": {},
   "source": [
    "### 課題 2-3\n",
    "$$\n",
    "f(x) = x^3 - 3x^2 + 5\n",
    "$$\n",
    "で $f(x)=0$ の解をニュートン法で見つけるのに $x_0 = 2.0$ と設定したところ失敗した．その理由を考察せよ"
   ]
  },
  {
   "cell_type": "code",
   "execution_count": null,
   "metadata": {},
   "outputs": [],
   "source": [
    "f(x) = x^3 - 3x^2 + 5\n",
    "fdash(x) = 3x^2 - 6x\n",
    "x, fx, conv, iter = newton(f, fdash, 2.0)"
   ]
  },
  {
   "cell_type": "markdown",
   "metadata": {},
   "source": [
    "## 課題3\n",
    "- セカント法（Secant method）\n",
    "- 解に十分近い区間で非線形方程式の解を求める\n",
    "- 導関数（1階微分）の近似を使って解を求める"
   ]
  },
  {
   "cell_type": "markdown",
   "metadata": {},
   "source": [
    "## 課題3-1\n",
    "- 関数 secant を定義し，テストプログラムを実行せよ"
   ]
  },
  {
   "cell_type": "markdown",
   "metadata": {},
   "source": [
    "### secant の説明\n",
    "- 引数\n",
    "    - f: 非線形関数．f(x) のように呼び出される\n",
    "    - x0, x1: 初期値\n",
    "    - tol: 許容誤差（省略可）\n",
    "    - maxiter: 最大繰り返し回数（省略可）\n",
    "- 戻り値\n",
    "    - $f(x)=0$ を満たす $x$とそのときの $f(x)$ の値\n",
    "    - 停止条件を満たしたかどうか\n",
    "    - 繰り返し回数\n",
    "- 関数内の変数\n",
    "    - x0, f0: $x_{n-1}$ と $f(x_{n-1})$\n",
    "    - x1, f1: $x_{n}$ と $f(x_{n})$\n",
    "    - x2, f2: $x_{n+1}$ と $f(x_{n+1})$\n",
    "    - iter: 繰り返し回数"
   ]
  },
  {
   "cell_type": "code",
   "execution_count": null,
   "metadata": {},
   "outputs": [],
   "source": [
    "function secant(f, x0, x1; tol = 1.0e-12, maxiter = 10000)\n",
    "    iter = 1\n",
    "    f0, f1 = f(x0), f(x1)\n",
    "    while true\n",
    "        x2 = (x0 * f1 - x1 * f0) / (f1 - f0)\n",
    "        if abs((x2-x1)/x1) < tol # 停止条件（x0, x1 の更新量の相対誤差がtol以下）\n",
    "            return (x2, f(x2), true, iter)\n",
    "        end\n",
    "        if iter >= maxiter # 繰り返し回数のチェック\n",
    "            return (x2, f(x2), false, iter)\n",
    "        end\n",
    "        x0, f0 = x1, f1\n",
    "        x1, f1 = x2, f(x2)\n",
    "        iter += 1\n",
    "    end\n",
    "end"
   ]
  },
  {
   "cell_type": "code",
   "execution_count": null,
   "metadata": {},
   "outputs": [],
   "source": [
    "f(x) = x^2-3x+2\n",
    "x, fx, conv, iter = secant(f, 1.1, 1.2)\n",
    "println(@test x ≈ 1)\n",
    "x, fx, conv, iter = secant(f, 2.1, 2.2)\n",
    "println(@test x ≈ 2)\n",
    "f(x) = exp(x) - 5\n",
    "x, fx, conv, iter = secant(f, 2.0, 2.1)\n",
    "println(@test x ≈ log(5))"
   ]
  },
  {
   "cell_type": "markdown",
   "metadata": {},
   "source": [
    "## 課題3-2\n",
    "- 課題1-2と同じ関数を用いて $f(x) = 0$ となる解を secant を使って求めよ\n",
    "- 課題1-2, 課題2-2の結果と繰返し回数の比較を行え\n",
    "- bisection, newton, secant それぞれの利点・欠点をまとめよ"
   ]
  },
  {
   "cell_type": "code",
   "execution_count": null,
   "metadata": {},
   "outputs": [],
   "source": [
    "# f(x) を定義\n",
    "f(x) = ??\n",
    "# 初期値 x0, x1 をセット\n",
    "x0, x1 = ??, ??\n",
    "# newtown を実行\n",
    "x, fx, conv, iter = secant(f, x0, x1)"
   ]
  },
  {
   "cell_type": "markdown",
   "metadata": {},
   "source": [
    "|手法|繰り返し回数|\n",
    "|:---:|:---:|\n",
    "| bisection | 0 |\n",
    "| newton | 0 |\n",
    "| secant | 0 |"
   ]
  },
  {
   "cell_type": "markdown",
   "metadata": {},
   "source": [
    "#### bisection\n",
    "- 利点\n",
    "- 欠点\n",
    "\n",
    "#### newton\n",
    "- 利点\n",
    "- 欠点\n",
    "\n",
    "#### secant\n",
    "- 利点\n",
    "- 欠点"
   ]
  },
  {
   "cell_type": "markdown",
   "metadata": {},
   "source": [
    "## 課題4\n",
    "- 連立非線形方程式をニュートン法を使って解く"
   ]
  },
  {
   "cell_type": "markdown",
   "metadata": {},
   "source": [
    "### 課題4-1\n",
    "- 多次元のニュートン法 multinewton のプログラムを完成させてテストプログラムを実行せよ"
   ]
  },
  {
   "cell_type": "markdown",
   "metadata": {},
   "source": [
    "### multinewton の説明\n",
    "- 引数\n",
    "    - F: 非線形関数．F(x) のように呼び出される．xはベクトル\n",
    "    - J: F(x) のヤコビ行列. J(x) のように呼び出される\n",
    "    - x0: 初期ベクトル\n",
    "    - tol: 許容誤差（省略可）\n",
    "    - maxiter: 最大繰り返し回数（省略可）\n",
    "- 戻り値\n",
    "    - $F(x)=0$ を満たす $x$とそのときの $F(x)$ の値\n",
    "    - 停止条件を満たしたかどうか\n",
    "    - 繰り返し回数\n",
    "- 関数内の変数\n",
    "    - x0: $x_n$ の値\n",
    "    - x1: $x_{n+1}$ の値\n",
    "    - iter: 繰り返し回数"
   ]
  },
  {
   "cell_type": "code",
   "execution_count": null,
   "metadata": {},
   "outputs": [],
   "source": [
    "function multinewton(F, J, x0; tol = 1.0e-12, maxiter = 10000)\n",
    "    iter = 1\n",
    "    while true\n",
    "        x1 = ??　# x1の更新式を完成させる\n",
    "        if maximum(abs.((x1-x0) ./ x0)) < tol # 停止条件（x0, x1 の更新量の相対誤差がtol以下）\n",
    "            return (x1, F(x1), true, iter)\n",
    "        end\n",
    "        if iter >= maxiter # 繰り返し回数のチェック\n",
    "            return (x1, F(x1), false, iter)\n",
    "        end\n",
    "        x0 = x1\n",
    "        iter += 1\n",
    "    end\n",
    "end"
   ]
  },
  {
   "cell_type": "markdown",
   "metadata": {},
   "source": [
    "#### テストプログラム"
   ]
  },
  {
   "cell_type": "code",
   "execution_count": null,
   "metadata": {},
   "outputs": [],
   "source": [
    "(a, b, c, d) = (1.0, 2.0, 2.0, 1.0)\n",
    "F(x) = [\n",
    "    a*x[1]-b*x[1]*x[2],\n",
    "    c*x[1]*x[2]-d*x[2]\n",
    "]\n",
    "J(x) = [\n",
    "    a - b*x[2]      -b*x[1];\n",
    "    c*x[2]            c*x[1] - d\n",
    "]\n",
    "x, fx, conv, iter = multinewton(F, J, [2.0, 2.0])\n",
    "display((x, fx, conv, iter))\n",
    "println(@test x ≈ [0.5, 0.5])"
   ]
  }
 ],
 "metadata": {
  "kernelspec": {
   "display_name": "Julia 1.3.0",
   "language": "julia",
   "name": "julia-1.3"
  },
  "language_info": {
   "file_extension": ".jl",
   "mimetype": "application/julia",
   "name": "julia",
   "version": "1.3.0"
  }
 },
 "nbformat": 4,
 "nbformat_minor": 2
}
